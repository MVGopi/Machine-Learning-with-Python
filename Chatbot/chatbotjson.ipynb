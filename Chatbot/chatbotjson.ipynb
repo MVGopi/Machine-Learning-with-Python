{
 "cells": [
  {
   "cell_type": "code",
   "execution_count": 1,
   "metadata": {},
   "outputs": [
    {
     "data": {
      "text/html": [
       "<div>\n",
       "<style scoped>\n",
       "    .dataframe tbody tr th:only-of-type {\n",
       "        vertical-align: middle;\n",
       "    }\n",
       "\n",
       "    .dataframe tbody tr th {\n",
       "        vertical-align: top;\n",
       "    }\n",
       "\n",
       "    .dataframe thead th {\n",
       "        text-align: right;\n",
       "    }\n",
       "</style>\n",
       "<table border=\"1\" class=\"dataframe\">\n",
       "  <thead>\n",
       "    <tr style=\"text-align: right;\">\n",
       "      <th></th>\n",
       "      <th>Intent</th>\n",
       "      <th>userSays</th>\n",
       "      <th>responses</th>\n",
       "      <th>entity</th>\n",
       "    </tr>\n",
       "  </thead>\n",
       "  <tbody>\n",
       "    <tr>\n",
       "      <td>0</td>\n",
       "      <td>UGFee</td>\n",
       "      <td>what about fee structure?</td>\n",
       "      <td>CSE  ,ECE, IT, Mechanical   --90,000/-</td>\n",
       "      <td>NaN</td>\n",
       "    </tr>\n",
       "    <tr>\n",
       "      <td>1</td>\n",
       "      <td>UGFee</td>\n",
       "      <td>what is the fee for B.Tech program?</td>\n",
       "      <td>The fee applicable for all core branches is 90...</td>\n",
       "      <td>NaN</td>\n",
       "    </tr>\n",
       "    <tr>\n",
       "      <td>2</td>\n",
       "      <td>UGFee</td>\n",
       "      <td>what is the fee for UG?</td>\n",
       "      <td>The fee per annum is 90,000</td>\n",
       "      <td>NaN</td>\n",
       "    </tr>\n",
       "    <tr>\n",
       "      <td>3</td>\n",
       "      <td>UGFee</td>\n",
       "      <td>what  is the fee for specific branch?</td>\n",
       "      <td>The fee should be paid after concession is 90,000</td>\n",
       "      <td>NaN</td>\n",
       "    </tr>\n",
       "    <tr>\n",
       "      <td>4</td>\n",
       "      <td>UGFee</td>\n",
       "      <td>Fee details for B.Tech?</td>\n",
       "      <td>45000 per semester</td>\n",
       "      <td>NaN</td>\n",
       "    </tr>\n",
       "  </tbody>\n",
       "</table>\n",
       "</div>"
      ],
      "text/plain": [
       "  Intent                                userSays  \\\n",
       "0   UGFee              what about fee structure?   \n",
       "1   UGFee    what is the fee for B.Tech program?   \n",
       "2   UGFee                what is the fee for UG?   \n",
       "3   UGFee  what  is the fee for specific branch?   \n",
       "4   UGFee                Fee details for B.Tech?   \n",
       "\n",
       "                                           responses  entity  \n",
       "0             CSE  ,ECE, IT, Mechanical   --90,000/-     NaN  \n",
       "1  The fee applicable for all core branches is 90...     NaN  \n",
       "2                        The fee per annum is 90,000     NaN  \n",
       "3  The fee should be paid after concession is 90,000     NaN  \n",
       "4                                45000 per semester      NaN  "
      ]
     },
     "execution_count": 1,
     "metadata": {},
     "output_type": "execute_result"
    }
   ],
   "source": [
    "import pandas as pd\n",
    "import numpy as np\n",
    "data = pd.read_csv(\"Chatbot data  - Template.csv\")\n",
    "data.head()"
   ]
  },
  {
   "cell_type": "code",
   "execution_count": 2,
   "metadata": {},
   "outputs": [
    {
     "data": {
      "text/plain": [
       "['what about fee structure?',\n",
       " 'what is the fee for B.Tech program?',\n",
       " 'what is the fee for UG?',\n",
       " 'what  is the fee for specific branch?',\n",
       " 'Fee details for B.Tech?',\n",
       " 'what is the fee applicable after concession?',\n",
       " 'what is the fee structure if my EAMCET rank is below 3000?',\n",
       " 'fee details if my plus 2 marks are above 965?',\n",
       " 'what is the fee for core branches?',\n",
       " 'what is the fee structure for CSE after concession?',\n",
       " 'Fee applicable for CSE if I score below 3000 in eamcet?',\n",
       " 'Fee details for ECE if my eamcet rank is below 3000?',\n",
       " 'what is the fee structure for ECE after concession?',\n",
       " 'Fee details for IT branch if my eamcet rank is below 3000?',\n",
       " 'what is the fee structure for IT branch after concession?',\n",
       " 'Fee details for mechanical if my eamcet rank is below 3000?',\n",
       " 'what is the fee structure for mechanical after concession?',\n",
       " 'what is the fee per annum?']"
      ]
     },
     "execution_count": 2,
     "metadata": {},
     "output_type": "execute_result"
    }
   ],
   "source": [
    "userSays = data['userSays'][:18]\n",
    "userSays = userSays.to_list()\n",
    "userSays"
   ]
  },
  {
   "cell_type": "code",
   "execution_count": 3,
   "metadata": {},
   "outputs": [
    {
     "data": {
      "text/plain": [
       "['CSE  ,ECE, IT, Mechanical   --90,000/-',\n",
       " 'The fee applicable for all core branches is 90,000',\n",
       " 'The fee per annum is 90,000',\n",
       " 'The fee should be paid after concession is 90,000',\n",
       " '45000 per semester ',\n",
       " '40000 per semester',\n",
       " nan,\n",
       " nan,\n",
       " nan,\n",
       " nan,\n",
       " nan,\n",
       " nan,\n",
       " nan,\n",
       " nan,\n",
       " nan,\n",
       " nan,\n",
       " nan,\n",
       " nan]"
      ]
     },
     "execution_count": 3,
     "metadata": {},
     "output_type": "execute_result"
    }
   ],
   "source": [
    "responses = data['responses'][:18]\n",
    "responses = responses.to_list()\n",
    "responses"
   ]
  },
  {
   "cell_type": "markdown",
   "metadata": {},
   "source": [
    "#### name of the Intent\n",
    "<pre>  \"name\": \"check\"</pre>"
   ]
  },
  {
   "cell_type": "markdown",
   "metadata": {},
   "source": [
    " #### Responses for the Intent Format\n",
    " <pre> \"responses\":[\n",
    "    {\n",
    "      \"resetContexts\": false,\n",
    "      \"affectedContexts\": [],\n",
    "      \"parameters\": [],\n",
    "      \"messages\": [\n",
    "        {\n",
    "          \"type\": 0,\n",
    "          \"lang\": \"en\",\n",
    "          \"condition\": \"\",\n",
    "          \"speech\": \"\"\n",
    "        }\n",
    "      ],\n",
    "      \"defaultResponsePlatforms\": {},\n",
    "      \"speech\": []\n",
    "    }\n",
    "  ]</pre>"
   ]
  },
  {
   "cell_type": "markdown",
   "metadata": {},
   "source": [
    "#### Format  for Uttarances for the intent \n",
    "<pre>\"userSays\":[\n",
    "  {\n",
    "    \n",
    "    \"data\": [\n",
    "      {\n",
    "        \"text\": \"How to ask a question\",\n",
    "        \"userDefined\": false\n",
    "      }\n",
    "    ],\n",
    "    \"isTemplate\": false,\n",
    "    \"count\": 0,\n",
    "    \"updated\": 0\n",
    "  },\n",
    "  {\n",
    "   \n",
    "    \"data\": [\n",
    "      {\n",
    "        \"text\": \"Can I ask a Question\",\n",
    "        \"userDefined\": false\n",
    "      }\n",
    "    ],\n",
    "    \"isTemplate\": false,\n",
    "    \"count\": 0,\n",
    "    \"updated\": 0\n",
    "  },\n",
    "  {\n",
    "   \n",
    "    \"data\": [\n",
    "      {\n",
    "        \"text\": \"what type of questions I should ask?\",\n",
    "        \"userDefined\": false\n",
    "      }\n",
    "    ],\n",
    "    \"isTemplate\": false,\n",
    "    \"count\": 0,\n",
    "    \"updated\": 0\n",
    "\t}\n",
    " ]</pre>"
   ]
  },
  {
   "cell_type": "code",
   "execution_count": 5,
   "metadata": {},
   "outputs": [
    {
     "data": {
      "text/plain": [
       "'{\\n  \"auto\": true,\\n  \"contexts\": [],\\n  \"priority\": 500000,\\n  \"webhookUsed\": false,\\n  \"webhookForSlotFilling\": false,\\n  \"fallbackIntent\": false,\\n  \"events\": [],\\n  \"conditionalResponses\": [],\\n  \"condition\": \"\",\\n  \"conditionalFollowupEvents\": []\\n  \\n}'"
      ]
     },
     "execution_count": 5,
     "metadata": {},
     "output_type": "execute_result"
    }
   ],
   "source": [
    "templateObj = open(\"Intenttemplate.json\")\n",
    "template = templateObj.read()\n",
    "template"
   ]
  },
  {
   "cell_type": "code",
   "execution_count": 6,
   "metadata": {},
   "outputs": [
    {
     "data": {
      "text/plain": [
       "{'auto': True,\n",
       " 'contexts': [],\n",
       " 'priority': 500000,\n",
       " 'webhookUsed': False,\n",
       " 'webhookForSlotFilling': False,\n",
       " 'fallbackIntent': False,\n",
       " 'events': [],\n",
       " 'conditionalResponses': [],\n",
       " 'condition': '',\n",
       " 'conditionalFollowupEvents': []}"
      ]
     },
     "execution_count": 6,
     "metadata": {},
     "output_type": "execute_result"
    }
   ],
   "source": [
    "import json\n",
    "templateDict = json.loads(template)\n",
    "templateDict"
   ]
  },
  {
   "cell_type": "code",
   "execution_count": 7,
   "metadata": {},
   "outputs": [
    {
     "data": {
      "text/plain": [
       "{'auto': True,\n",
       " 'contexts': [],\n",
       " 'priority': 500000,\n",
       " 'webhookUsed': False,\n",
       " 'webhookForSlotFilling': False,\n",
       " 'fallbackIntent': False,\n",
       " 'events': [],\n",
       " 'conditionalResponses': [],\n",
       " 'condition': '',\n",
       " 'conditionalFollowupEvents': []}"
      ]
     },
     "execution_count": 7,
     "metadata": {},
     "output_type": "execute_result"
    }
   ],
   "source": [
    "templateDict"
   ]
  },
  {
   "cell_type": "code",
   "execution_count": 9,
   "metadata": {},
   "outputs": [
    {
     "data": {
      "text/plain": [
       "25"
      ]
     },
     "execution_count": 9,
     "metadata": {},
     "output_type": "execute_result"
    }
   ],
   "source": [
    "# Number of Intents in the file\n",
    "len(data.groupby('Intent '))"
   ]
  },
  {
   "cell_type": "code",
   "execution_count": 10,
   "metadata": {},
   "outputs": [],
   "source": [
    "sampleResopnse = {\n",
    "      \"resetContexts\": \"false\",\n",
    "      \"affectedContexts\": [],\n",
    "      \"parameters\": [],\n",
    "      \"messages\": [\n",
    "        {\n",
    "          \"type\": 0,\n",
    "          \"lang\": \"en\",\n",
    "          \"condition\": \"\",\n",
    "          \"speech\": \"\"\n",
    "        }\n",
    "      ],\n",
    "      \"defaultResponsePlatforms\": {},\n",
    "      \"speech\": []\n",
    "    }"
   ]
  },
  {
   "cell_type": "code",
   "execution_count": 11,
   "metadata": {},
   "outputs": [],
   "source": [
    "sampleUttarance =  {\n",
    "    \"data\": [\n",
    "      {\n",
    "        \"text\": \"\",\n",
    "        \"userDefined\": \"false\"\n",
    "      }\n",
    "    ],\n",
    "    \"isTemplate\": \"false\",\n",
    "    \"count\": 0,\n",
    "    \"updated\": 0\n",
    "  }"
   ]
  },
  {
   "cell_type": "code",
   "execution_count": 12,
   "metadata": {},
   "outputs": [],
   "source": [
    "def valueForUserSays(subgroup):\n",
    "    uttarances = [] \n",
    "    for uttarance in subgroup[1].userSays:\n",
    "        sampleUttarance =  {\n",
    "                    \"data\": [\n",
    "                      {\n",
    "                        \"text\": \"\",\n",
    "                        \"userDefined\": \"false\"\n",
    "                      }\n",
    "                    ],\n",
    "                    \"isTemplate\": \"false\",\n",
    "                    \"count\": 0,\n",
    "                    \"updated\": 0\n",
    "                  }\n",
    "        sampleUttarance['data'][0]['text']=uttarance\n",
    "        uttarances.append(sampleUttarance)   \n",
    "    return uttarances"
   ]
  },
  {
   "cell_type": "code",
   "execution_count": 14,
   "metadata": {},
   "outputs": [],
   "source": [
    "def valueForResponse(subgroup):\n",
    "    responses = [] \n",
    "    sampleResopnse = {\n",
    "                      \"resetContexts\": \"false\",\n",
    "                      \"affectedContexts\": [],\n",
    "                      \"parameters\": [],\n",
    "                      \"messages\": [\n",
    "                        {\n",
    "                          \"type\": 0,\n",
    "                          \"lang\": \"en\",\n",
    "                          \"condition\": \"\",\n",
    "                          \"speech\": []\n",
    "                        }\n",
    "                      ],\n",
    "                      \"defaultResponsePlatforms\": {},\n",
    "                      \"speech\": []\n",
    "                    }\n",
    "    for response in subgroup[1].responses:\n",
    "        if response is not np.nan:\n",
    "            #print(response)\n",
    "            sampleResopnse['messages'][0]['speech'].append(response)\n",
    "    responses.append(sampleResopnse)   \n",
    "    return responses"
   ]
  },
  {
   "cell_type": "code",
   "execution_count": 21,
   "metadata": {},
   "outputs": [],
   "source": [
    "for subgroup in data.groupby('Intent '):\n",
    "    tempDict = templateDict.copy()\n",
    "    tempDict['userSays'] = valueForUserSays(subgroup)\n",
    "    tempDict['responses'] = valueForResponse(subgroup)\n",
    "    tempDict['name'] = subgroup[0]\n",
    "    templateStr = json.dumps(tempDict)\n",
    "    fileObj = open(\"Chatbot\\\\intents\\\\\"+subgroup[0]+'.json','w')\n",
    "    fileObj.write(templateStr)\n",
    "    fileObj.close()"
   ]
  },
  {
   "cell_type": "code",
   "execution_count": 19,
   "metadata": {
    "scrolled": true
   },
   "outputs": [
    {
     "name": "stdout",
     "output_type": "stream",
     "text": [
      "('Admission end date',                 Intent                                userSays  \\\n",
      "135  Admission end date                  end date of admission   \n",
      "136  Admission end date               when will admissions end   \n",
      "137  Admission end date          admissions ends on which date   \n",
      "138  Admission end date             when admissions are closed   \n",
      "139  Admission end date                     admission end date   \n",
      "140  Admission end date  admissions will be over by which date   \n",
      "141  Admission end date            admissions will be over by    \n",
      "\n",
      "                                     responses  entity  \n",
      "135  admissions will be closed by 10th of june     NaN  \n",
      "136                                        NaN     NaN  \n",
      "137                                        NaN     NaN  \n",
      "138                                        NaN     NaN  \n",
      "139                                        NaN     NaN  \n",
      "140                                        NaN     NaN  \n",
      "141                                        NaN     NaN  )\n"
     ]
    }
   ],
   "source": [
    "for i  in data.groupby('Intent '):\n",
    "    print(i)\n",
    "    break"
   ]
  },
  {
   "cell_type": "code",
   "execution_count": null,
   "metadata": {},
   "outputs": [],
   "source": []
  }
 ],
 "metadata": {
  "kernelspec": {
   "display_name": "Python 3",
   "language": "python",
   "name": "python3"
  },
  "language_info": {
   "codemirror_mode": {
    "name": "ipython",
    "version": 3
   },
   "file_extension": ".py",
   "mimetype": "text/x-python",
   "name": "python",
   "nbconvert_exporter": "python",
   "pygments_lexer": "ipython3",
   "version": "3.7.4"
  }
 },
 "nbformat": 4,
 "nbformat_minor": 2
}
