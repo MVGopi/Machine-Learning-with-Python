{
 "cells": [
  {
   "cell_type": "code",
   "execution_count": 1,
   "metadata": {},
   "outputs": [],
   "source": [
    "data = [[{'student_id': 28, 'count': 20},\n",
    " {'student_id': 31, 'count': 20}, \n",
    "{'student_id': 33,'count': 14}, \n",
    "{'student_id': 40, 'count': 8}],\n",
    "[{'student_id': 28,'count': 19},\n",
    " {'student_id': 31,'count': 15}, \n",
    "{'student_id': 33,'count': 18}, \n",
    "{'student_id': 40,'count': 18}]]"
   ]
  },
  {
   "cell_type": "code",
   "execution_count": 7,
   "metadata": {},
   "outputs": [],
   "source": [
    "student_ids=\\\n",
    "[{'username':'221711001004', 'student_id': 28, 'first_name': 'B S VAISHNAVI'},\n",
    " {'username': '221711001007', 'student_id': 31, 'first_name': 'ENUGOLU HARIBABU'}, \n",
    "{'username': '221711001009', 'student_id': 33, 'first_name': 'JODU PRADEEP BABU'}, \n",
    "{'username': '221711001016', 'student_id': 40, 'first_name': 'SOHAIL KHAN'},\n",
    "{'username': '221711001017', 'student_id': 41, 'first_name': 'Test User'}\n",
    "]"
   ]
  },
  {
   "cell_type": "markdown",
   "metadata": {},
   "source": [
    "## output format\n",
    "[['221711001004', 'B S VAISHNAVI', 100.0, 90.47619047619048],<br>\n",
    " ['221711001007', 'ENUGOLU HARIBABU', 100.0, 71.42857142857143],<br>\n",
    " ['221711001009', 'JODU PRADEEP BABU', 70.0, 85.71428571428571],<br>\n",
    " ['221711001016', 'SOHAIL KHAN', 40.0, 85.71428571428571],<br>\n",
    " ['221711001017', 'Test User', 0, 0]]<br>"
   ]
  },
  {
   "cell_type": "code",
   "execution_count": null,
   "metadata": {},
   "outputs": [],
   "source": []
  }
 ],
 "metadata": {
  "kernelspec": {
   "display_name": "Python 3",
   "language": "python",
   "name": "python3"
  },
  "language_info": {
   "codemirror_mode": {
    "name": "ipython",
    "version": 3
   },
   "file_extension": ".py",
   "mimetype": "text/x-python",
   "name": "python",
   "nbconvert_exporter": "python",
   "pygments_lexer": "ipython3",
   "version": "3.7.4"
  }
 },
 "nbformat": 4,
 "nbformat_minor": 2
}
